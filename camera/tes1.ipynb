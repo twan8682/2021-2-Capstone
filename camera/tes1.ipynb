{
 "cells": [
  {
   "cell_type": "code",
   "execution_count": 1,
   "metadata": {},
   "outputs": [
    {
     "name": "stdout",
     "output_type": "stream",
     "text": [
      "Requirement already satisfied: pymysql in c:\\users\\twan8\\anaconda3\\lib\\site-packages (1.0.2)\n"
     ]
    }
   ],
   "source": [
    "!pip install pymysql"
   ]
  },
  {
   "cell_type": "code",
   "execution_count": 2,
   "metadata": {},
   "outputs": [],
   "source": [
    "import cv2\n",
    "import numpy as np\n",
    "import matplotlib.pyplot as plt\n",
    "import pymysql\n",
    "import requests\n",
    "import time"
   ]
  },
  {
   "cell_type": "code",
   "execution_count": 3,
   "metadata": {},
   "outputs": [],
   "source": [
    "def region_of_interest(image):\n",
    "    height = image.shape[0]\n",
    "    polygons = np.array([\n",
    "        [(0,0),(0,300),(200,0),(400,300),(400,0)]\n",
    "    ])          # Triangle polygon because cv2.fillPoly expects an array of polygons.\n",
    "    a=cv2.fillPoly(image,polygons,(255,255,255)) \n",
    "    return a"
   ]
  },
  {
   "cell_type": "code",
   "execution_count": 4,
   "metadata": {},
   "outputs": [],
   "source": [
    "num = 1\n",
    "#conn = pymysql.connect(host='localhost', user='root', password='1234', charset='utf8', db='capstone0') #DB 연결\n",
    "#cur = conn.cursor()"
   ]
  },
  {
   "cell_type": "code",
   "execution_count": 5,
   "metadata": {},
   "outputs": [],
   "source": [
    "while(1):\n",
    "    cap = cv2.VideoCapture('http://192.168.219.117:81/stream')\n",
    "    _, frame = cap.read()\n",
    "    #cropped_image = region_of_interest(frame)\n",
    "    cv2.imshow('Result',frame)\n",
    "    cv2.imwrite(\"C:\\\\Users\\\\twan8\\\\eclipse-workspace\\\\Web\\\\WebContent\\\\resources\\\\images\\\\\" + str(num) + \".jpg\", frame)\n",
    "    num=num+1\n",
    "    cv2.destroyAllWindows()\n",
    "    time.sleep(5)\n",
    "    key = cv2.waitKey(1)\n",
    "\n",
    "    \n",
    "'''\n",
    "    if key == 26:\n",
    "        print(\"캡쳐\")\n",
    "        cv2.imwrite(\"C:\\\\Users\\\\twan8\\\\eclipse-workspace\\\\Web\\\\WebContent\\\\resources\\\\images\\\\\" + str(num) + \".jpg\", frame)\n",
    "        #sql = \"INSERT INTO result VALUES(\"+str(num)+\")\"\n",
    "        #cur.execute(sql)\n",
    "        #conn.commit()\n",
    "        #requests.get('http://localhost:8080/Web/testResult.jsp?dectect=ok')\n",
    "        num=num+1\n",
    "'''"
   ]
  }
 ],
 "metadata": {
  "interpreter": {
   "hash": "4160dcb6e666e037ed610488d9f0a0f1c2c368e72b300ab6aee39adb1375d499"
  },
  "kernelspec": {
   "display_name": "Python 3.9.7 64-bit ('base': conda)",
   "language": "python",
   "name": "python3"
  },
  "language_info": {
   "codemirror_mode": {
    "name": "ipython",
    "version": 3
   },
   "file_extension": ".py",
   "mimetype": "text/x-python",
   "name": "python",
   "nbconvert_exporter": "python",
   "pygments_lexer": "ipython3",
   "version": "3.9.7"
  },
  "orig_nbformat": 4
 },
 "nbformat": 4,
 "nbformat_minor": 2
}
